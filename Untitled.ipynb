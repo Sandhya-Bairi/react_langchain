{
 "cells": [
  {
   "cell_type": "code",
   "execution_count": 2,
   "id": "d7fae236",
   "metadata": {},
   "outputs": [
    {
     "name": "stdout",
     "output_type": "stream",
     "text": [
      "Installing tiktoken...\n",
      "Resolving tiktoken...\n",
      "[    ] Installing...\n",
      "Installation Succeeded\n",
      "[    ] Installing tiktoken...\n",
      "[    ] Installing tiktoken...\n",
      "\n",
      "Installing openai...\n",
      "Resolving openai...\n",
      "[    ] Installing...\n",
      "Installation Succeeded\n",
      "[    ] Installing openai...\n",
      "[    ] Installing openai...\n",
      "\n",
      "Installing dependencies from Pipfile.lock (176c09)...\n",
      "To activate this project's virtualenv, run pipenv shell.\n",
      "Alternatively, run a command inside the virtualenv with pipenv run.\n"
     ]
    },
    {
     "name": "stderr",
     "output_type": "stream",
     "text": [
      "Loading .env environment variables...\n",
      "Courtesy Notice: Pipenv found itself running within a virtual environment, so it will automatically use that environment, instead of creating its own for any project. You can set PIPENV_IGNORE_VIRTUALENVS=1 to force pipenv to ignore that environment and create its own instead. You can set PIPENV_VERBOSITY=-1 to suppress this warning.\n"
     ]
    }
   ],
   "source": [
    "!pipenv install tiktoken openai"
   ]
  },
  {
   "cell_type": "code",
   "execution_count": 3,
   "id": "9ae0f734",
   "metadata": {},
   "outputs": [
    {
     "name": "stdout",
     "output_type": "stream",
     "text": [
      "Package                  Version\n",
      "------------------------ -----------\n",
      "aiohttp                  3.9.5\n",
      "aiosignal                1.3.1\n",
      "annotated-types          0.6.0\n",
      "anyio                    4.3.0\n",
      "attrs                    23.2.0\n",
      "black                    24.4.0\n",
      "certifi                  2024.2.2\n",
      "charset-normalizer       3.3.2\n",
      "click                    8.1.7\n",
      "colorama                 0.4.6\n",
      "dataclasses-json         0.6.4\n",
      "distro                   1.9.0\n",
      "frozenlist               1.4.1\n",
      "greenlet                 3.0.3\n",
      "h11                      0.14.0\n",
      "httpcore                 1.0.5\n",
      "httpx                    0.27.0\n",
      "idna                     3.7\n",
      "jsonpatch                1.33\n",
      "jsonpointer              2.4\n",
      "langchain                0.1.16\n",
      "langchain-community      0.0.34\n",
      "langchain-core           0.1.45\n",
      "langchain-openai         0.1.3\n",
      "langchain-text-splitters 0.0.1\n",
      "langsmith                0.1.49\n",
      "marshmallow              3.21.1\n",
      "multidict                6.0.5\n",
      "mypy-extensions          1.0.0\n",
      "numpy                    1.26.4\n",
      "openai                   1.23.2\n",
      "orjson                   3.10.1\n",
      "packaging                23.2\n",
      "pandas                   2.2.2\n",
      "pathspec                 0.12.1\n",
      "pip                      24.0\n",
      "platformdirs             4.2.0\n",
      "pydantic                 2.7.0\n",
      "pydantic_core            2.18.1\n",
      "python-dateutil          2.9.0.post0\n",
      "python-dotenv            1.0.1\n",
      "pytz                     2024.1\n",
      "PyYAML                   6.0.1\n",
      "regex                    2024.4.16\n",
      "requests                 2.31.0\n",
      "scipy                    1.13.0\n",
      "setuptools               69.1.0\n",
      "six                      1.16.0\n",
      "sniffio                  1.3.1\n",
      "SQLAlchemy               2.0.29\n",
      "tenacity                 8.2.3\n",
      "tiktoken                 0.6.0\n",
      "tqdm                     4.66.2\n",
      "typing_extensions        4.11.0\n",
      "typing-inspect           0.9.0\n",
      "tzdata                   2024.1\n",
      "urllib3                  2.2.1\n",
      "wheel                    0.42.0\n",
      "yarl                     1.9.4\n"
     ]
    }
   ],
   "source": [
    "!pip list"
   ]
  },
  {
   "cell_type": "code",
   "execution_count": 6,
   "id": "16d97dec",
   "metadata": {},
   "outputs": [
    {
     "name": "stdout",
     "output_type": "stream",
     "text": [
      "Index(['text', 'embedding'], dtype='object')\n"
     ]
    }
   ],
   "source": [
    "import pandas as pd\n",
    "embeddings_path= \"https://cdn.openai.com/API/examples/data/winter_olympics_2022.csv\"\n",
    "df = pd.read_csv(embeddings_path)\n",
    "\n",
    "df['embedding'] = df['embedding'].apply(ast.literal_eval)\n",
    "print(df.columns)"
   ]
  },
  {
   "cell_type": "code",
   "execution_count": 7,
   "id": "76094172",
   "metadata": {},
   "outputs": [
    {
     "data": {
      "text/html": [
       "<div>\n",
       "<style scoped>\n",
       "    .dataframe tbody tr th:only-of-type {\n",
       "        vertical-align: middle;\n",
       "    }\n",
       "\n",
       "    .dataframe tbody tr th {\n",
       "        vertical-align: top;\n",
       "    }\n",
       "\n",
       "    .dataframe thead th {\n",
       "        text-align: right;\n",
       "    }\n",
       "</style>\n",
       "<table border=\"1\" class=\"dataframe\">\n",
       "  <thead>\n",
       "    <tr style=\"text-align: right;\">\n",
       "      <th></th>\n",
       "      <th>text</th>\n",
       "      <th>embedding</th>\n",
       "    </tr>\n",
       "  </thead>\n",
       "  <tbody>\n",
       "    <tr>\n",
       "      <th>0</th>\n",
       "      <td>Lviv bid for the 2022 Winter Olympics\\n\\n{{Oly...</td>\n",
       "      <td>[-0.005021067801862955, 0.00026050032465718687...</td>\n",
       "    </tr>\n",
       "    <tr>\n",
       "      <th>1</th>\n",
       "      <td>Lviv bid for the 2022 Winter Olympics\\n\\n==His...</td>\n",
       "      <td>[0.0033927420154213905, -0.007447326090186834,...</td>\n",
       "    </tr>\n",
       "    <tr>\n",
       "      <th>2</th>\n",
       "      <td>Lviv bid for the 2022 Winter Olympics\\n\\n==Ven...</td>\n",
       "      <td>[-0.00915789045393467, -0.008366798982024193, ...</td>\n",
       "    </tr>\n",
       "    <tr>\n",
       "      <th>3</th>\n",
       "      <td>Lviv bid for the 2022 Winter Olympics\\n\\n==Ven...</td>\n",
       "      <td>[0.0030951891094446182, -0.006064314860850573,...</td>\n",
       "    </tr>\n",
       "    <tr>\n",
       "      <th>4</th>\n",
       "      <td>Lviv bid for the 2022 Winter Olympics\\n\\n==Ven...</td>\n",
       "      <td>[-0.002936174161732197, -0.006185177247971296,...</td>\n",
       "    </tr>\n",
       "    <tr>\n",
       "      <th>...</th>\n",
       "      <td>...</td>\n",
       "      <td>...</td>\n",
       "    </tr>\n",
       "    <tr>\n",
       "      <th>6054</th>\n",
       "      <td>Anaïs Chevalier-Bouchet\\n\\n==Personal life==\\n...</td>\n",
       "      <td>[-0.027750400826334953, 0.001746018067933619, ...</td>\n",
       "    </tr>\n",
       "    <tr>\n",
       "      <th>6055</th>\n",
       "      <td>Uliana Nigmatullina\\n\\n{{short description|Rus...</td>\n",
       "      <td>[-0.021714167669415474, 0.016001321375370026, ...</td>\n",
       "    </tr>\n",
       "    <tr>\n",
       "      <th>6056</th>\n",
       "      <td>Uliana Nigmatullina\\n\\n==Biathlon results==\\n\\...</td>\n",
       "      <td>[-0.029143543913960457, 0.014654331840574741, ...</td>\n",
       "    </tr>\n",
       "    <tr>\n",
       "      <th>6057</th>\n",
       "      <td>Uliana Nigmatullina\\n\\n==Biathlon results==\\n\\...</td>\n",
       "      <td>[-0.024266039952635765, 0.011665306985378265, ...</td>\n",
       "    </tr>\n",
       "    <tr>\n",
       "      <th>6058</th>\n",
       "      <td>Uliana Nigmatullina\\n\\n==Biathlon results==\\n\\...</td>\n",
       "      <td>[-0.021818075329065323, 0.005420385394245386, ...</td>\n",
       "    </tr>\n",
       "  </tbody>\n",
       "</table>\n",
       "<p>6059 rows × 2 columns</p>\n",
       "</div>"
      ],
      "text/plain": [
       "                                                   text  \\\n",
       "0     Lviv bid for the 2022 Winter Olympics\\n\\n{{Oly...   \n",
       "1     Lviv bid for the 2022 Winter Olympics\\n\\n==His...   \n",
       "2     Lviv bid for the 2022 Winter Olympics\\n\\n==Ven...   \n",
       "3     Lviv bid for the 2022 Winter Olympics\\n\\n==Ven...   \n",
       "4     Lviv bid for the 2022 Winter Olympics\\n\\n==Ven...   \n",
       "...                                                 ...   \n",
       "6054  Anaïs Chevalier-Bouchet\\n\\n==Personal life==\\n...   \n",
       "6055  Uliana Nigmatullina\\n\\n{{short description|Rus...   \n",
       "6056  Uliana Nigmatullina\\n\\n==Biathlon results==\\n\\...   \n",
       "6057  Uliana Nigmatullina\\n\\n==Biathlon results==\\n\\...   \n",
       "6058  Uliana Nigmatullina\\n\\n==Biathlon results==\\n\\...   \n",
       "\n",
       "                                              embedding  \n",
       "0     [-0.005021067801862955, 0.00026050032465718687...  \n",
       "1     [0.0033927420154213905, -0.007447326090186834,...  \n",
       "2     [-0.00915789045393467, -0.008366798982024193, ...  \n",
       "3     [0.0030951891094446182, -0.006064314860850573,...  \n",
       "4     [-0.002936174161732197, -0.006185177247971296,...  \n",
       "...                                                 ...  \n",
       "6054  [-0.027750400826334953, 0.001746018067933619, ...  \n",
       "6055  [-0.021714167669415474, 0.016001321375370026, ...  \n",
       "6056  [-0.029143543913960457, 0.014654331840574741, ...  \n",
       "6057  [-0.024266039952635765, 0.011665306985378265, ...  \n",
       "6058  [-0.021818075329065323, 0.005420385394245386, ...  \n",
       "\n",
       "[6059 rows x 2 columns]"
      ]
     },
     "execution_count": 7,
     "metadata": {},
     "output_type": "execute_result"
    }
   ],
   "source": [
    "df"
   ]
  },
  {
   "cell_type": "code",
   "execution_count": 5,
   "id": "35030100",
   "metadata": {
    "scrolled": true
   },
   "outputs": [
    {
     "ename": "ImportError",
     "evalue": "cannot import name 'OpenAI' from 'openai' (C:\\Users\\SANDHYA.DESKTOP-H0KTL83\\anaconda3\\Lib\\site-packages\\openai\\__init__.py)",
     "output_type": "error",
     "traceback": [
      "\u001b[1;31m---------------------------------------------------------------------------\u001b[0m",
      "\u001b[1;31mImportError\u001b[0m                               Traceback (most recent call last)",
      "Cell \u001b[1;32mIn[5], line 8\u001b[0m\n\u001b[0;32m      6\u001b[0m \u001b[38;5;28;01mfrom\u001b[39;00m \u001b[38;5;21;01mscipy\u001b[39;00m \u001b[38;5;28;01mimport\u001b[39;00m spatial\n\u001b[0;32m      7\u001b[0m \u001b[38;5;28;01mfrom\u001b[39;00m \u001b[38;5;21;01mdotenv\u001b[39;00m \u001b[38;5;28;01mimport\u001b[39;00m load_dotenv\n\u001b[1;32m----> 8\u001b[0m \u001b[38;5;28;01mfrom\u001b[39;00m \u001b[38;5;21;01mopenai\u001b[39;00m \u001b[38;5;28;01mimport\u001b[39;00m OpenAI\n\u001b[0;32m     10\u001b[0m load_dotenv()\n\u001b[0;32m     12\u001b[0m EMBEDDING_MODEL \u001b[38;5;241m=\u001b[39m \u001b[38;5;124m\"\u001b[39m\u001b[38;5;124mtext-embedding-ada-002\u001b[39m\u001b[38;5;124m\"\u001b[39m\n",
      "\u001b[1;31mImportError\u001b[0m: cannot import name 'OpenAI' from 'openai' (C:\\Users\\SANDHYA.DESKTOP-H0KTL83\\anaconda3\\Lib\\site-packages\\openai\\__init__.py)"
     ]
    }
   ],
   "source": [
    "import pandas as pd\n",
    "#import tiktoken\n",
    "import ast\n",
    "\n",
    "import os\n",
    "from scipy import spatial\n",
    "from dotenv import load_dotenv\n",
    "from openai import OpenAI\n",
    "\n",
    "load_dotenv()\n",
    "\n",
    "EMBEDDING_MODEL = \"text-embedding-ada-002\"\n",
    "GPT_MODEL = \"gpt-3.5-turbo\"\n",
    "\n",
    "client = OpenAI(api_key=os.environ.get(\"OPENAI_API_KEY\"))\n",
    "\n",
    "query = 'Which athletes won the gold medal in curling at the 2024 Winter Olympics?'\n",
    "\n",
    "# response = client.chat.completions.create(\n",
    "#     messages=[\n",
    "#         {'role': 'system', 'content': 'You answer questions about the 2024 Winter Olympics.'},\n",
    "#         {'role': 'user', 'content': query},\n",
    "#     ],\n",
    "#     model=GPT_MODEL,\n",
    "#     temperature=0\n",
    "# )\n",
    "\n",
    "embeddings_path= \"https://cdn.openai.com/API/examples/data/winter_olympics_2022.csv\"\n",
    "df = pd.read_csv(embeddings_path)\n",
    "\n",
    "df['embedding'] = df['embedding'].apply(ast.literal_eval)"
   ]
  },
  {
   "cell_type": "code",
   "execution_count": null,
   "id": "1b7096bf",
   "metadata": {},
   "outputs": [],
   "source": []
  }
 ],
 "metadata": {
  "kernelspec": {
   "display_name": "Python 3 (ipykernel)",
   "language": "python",
   "name": "python3"
  },
  "language_info": {
   "codemirror_mode": {
    "name": "ipython",
    "version": 3
   },
   "file_extension": ".py",
   "mimetype": "text/x-python",
   "name": "python",
   "nbconvert_exporter": "python",
   "pygments_lexer": "ipython3",
   "version": "3.11.4"
  }
 },
 "nbformat": 4,
 "nbformat_minor": 5
}
